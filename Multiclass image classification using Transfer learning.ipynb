{
 "cells": [
  {
   "cell_type": "code",
   "execution_count": null,
   "metadata": {},
   "outputs": [],
   "source": [
    "import numpy as np\n",
    "import pandas as pd\n",
    "import seaborn as sns\n",
    "import matplotlib.pyplot as plt\n",
    "\n",
    "from sklearn.metrics import classification_report, confusion_matrix\n",
    "\n",
    "# deep learning libraries\n",
    "import tensorflow as tf\n",
    "import keras\n",
    "from keras.preprocessing.image import ImageDataGenerator\n",
    "from tensorflow.keras import applications\n",
    "from keras.models import Sequential, load_model\n",
    "from keras.layers import Conv2D, MaxPooling2D, GlobalAveragePooling2D, Flatten, Dense, Dropout\n",
    "from keras.preprocessing import image\n",
    "\n",
    "import cv2\n",
    "\n",
    "import warnings\n",
    "warnings.filterwarnings('ignore')\n"
   ]
  },
  {
   "cell_type": "code",
   "execution_count": null,
   "metadata": {},
   "outputs": [],
   "source": [
    "from google.colab import drive\n",
    "drive.mount(\"/content/drive\")\n",
    "\n",
    "# datasets\n",
    "labels = pd.read_csv(\"/content/drive/My Drive/dog/labels.csv\")\n",
    "sample = pd.read_csv('/content/drive/My Drive/dog/sample_submission.csv')\n",
    "\n",
    "# folders paths\n",
    "train_path = \"/content/drive/MyDrive/dog/train\"\n",
    "test_path = \"/content/drive/MyDrive/dog/test\"\n"
   ]
  },
  {
   "cell_type": "code",
   "execution_count": null,
   "metadata": {},
   "outputs": [],
   "source": [
    "labels.head()"
   ]
  },
  {
   "cell_type": "code",
   "execution_count": null,
   "metadata": {},
   "outputs": [],
   "source": [
    "def to_jpg(id):\n",
    "    return id+\".jpg\"\n",
    "\n",
    "\n",
    "labels['id'] = labels['id'].apply(to_jpg)\n",
    "sample['id'] = sample['id'].apply(to_jpg)\n"
   ]
  },
  {
   "cell_type": "code",
   "execution_count": null,
   "metadata": {},
   "outputs": [],
   "source": [
    "# Data agumentation and pre-processing using tensorflow\n",
    "gen = ImageDataGenerator(\n",
    "                  rescale=1./255.,\n",
    "                  horizontal_flip = True,\n",
    "                  validation_split=0.2 # training: 80% data, validation: 20% data\n",
    "                 )\n",
    "\n",
    "train_generator = gen.flow_from_dataframe(\n",
    "    labels, # dataframe\n",
    "    directory = train_path, # images data path / folder in which images are there\n",
    "    x_col = 'id',\n",
    "    y_col = 'breed',\n",
    "    subset=\"training\",\n",
    "    color_mode=\"rgb\",\n",
    "    target_size = (331,331), # image height , image width\n",
    "    class_mode=\"categorical\",\n",
    "    batch_size=32,\n",
    "    shuffle=True,\n",
    "    seed=42,\n",
    ")\n",
    "\n",
    "\n",
    "validation_generator = gen.flow_from_dataframe(\n",
    "    labels, # dataframe\n",
    "    directory = train_path, # images data path / folder in which images are there\n",
    "    x_col = 'id',\n",
    "    y_col = 'breed',\n",
    "    subset=\"validation\",\n",
    "    color_mode=\"rgb\",\n",
    "    target_size = (331,331), # image height , image width\n",
    "    class_mode=\"categorical\",\n",
    "    batch_size=32,\n",
    "    shuffle=True,\n",
    "    seed=42,\n",
    ")\n"
   ]
  },
  {
   "cell_type": "code",
   "execution_count": null,
   "metadata": {},
   "outputs": [],
   "source": [
    "x,y = next(train_generator)\n",
    "x.shape # input shape of one record is (331,331,3) , 32: is the batch size\n"
   ]
  },
  {
   "cell_type": "code",
   "execution_count": null,
   "metadata": {},
   "outputs": [],
   "source": [
    "a = train_generator.class_indices\n",
    "class_names = list(a.keys())  # storing class/breed names in a list\n",
    "\n",
    "\n",
    "def plot_images(img, labels):\n",
    "    plt.figure(figsize=[15, 10])\n",
    "    for i in range(25):\n",
    "        plt.subplot(5, 5, i+1)\n",
    "        plt.imshow(img[i])\n",
    "        plt.title(class_names[np.argmax(labels[i])])\n",
    "        plt.axis('off')\n",
    "\n",
    " plot_images(x,y)\n"
   ]
  },
  {
   "cell_type": "code",
   "execution_count": null,
   "metadata": {},
   "outputs": [],
   "source": [
    "# load the InceptionResNetV2 architecture with imagenet weights as base\n",
    "base_model = tf.keras.applications.InceptionResNetV2(\n",
    "                     include_top=False,\n",
    "                     weights='imagenet',\n",
    "                     input_shape=(331,331,3)\n",
    "                     )\n",
    "\n",
    "base_model.trainable=False\n",
    "\n",
    "# Build the model and pass an input with a defined shape \n",
    "# so the model can infer the shapes of all the layers\n",
    "input_tensor = tf.keras.Input(shape=(331,331,3))\n",
    "output_tensor = base_model(input_tensor)\n",
    "\n",
    "# Now build the rest of the model\n",
    "model = tf.keras.Sequential([\n",
    "        base_model,\n",
    "        tf.keras.layers.GlobalAveragePooling2D(),\n",
    "        tf.keras.layers.BatchNormalization(),\n",
    "        tf.keras.layers.Dense(512, activation='relu'),\n",
    "        tf.keras.layers.Dense(256, activation='relu'),\n",
    "        tf.keras.layers.Dropout(0.5),\n",
    "        tf.keras.layers.Dense(128, activation='relu'),\n",
    "        tf.keras.layers.Dense(120, activation='softmax')\n",
    "    ])\n",
    "\n",
    "# This code is modified by Susobhan Akhuli\n"
   ]
  },
  {
   "cell_type": "code",
   "execution_count": null,
   "metadata": {},
   "outputs": [],
   "source": [
    "model.compile(optimizer='Adam',loss='categorical_crossentropy',metrics=['accuracy'])\n",
    "# categorical cross entropy is taken since its used as a loss function for \n",
    "# multi-class classification problems where there are two or more output labels.\n",
    "# using Adam optimizer for better performance\n",
    "# other optimizers such as sgd can also be used depending upon the model\n"
   ]
  },
  {
   "cell_type": "code",
   "execution_count": null,
   "metadata": {},
   "outputs": [],
   "source": [
    "model.summary()"
   ]
  },
  {
   "cell_type": "code",
   "execution_count": null,
   "metadata": {},
   "outputs": [],
   "source": [
    "early = tf.keras.callbacks.EarlyStopping( patience=10,\n",
    "                                          min_delta=0.001,\n",
    "                                          restore_best_weights=True)\n",
    "# early stopping call back\n"
   ]
  },
  {
   "cell_type": "code",
   "execution_count": null,
   "metadata": {},
   "outputs": [],
   "source": [
    "batch_size=32\n",
    "STEP_SIZE_TRAIN = train_generator.n//train_generator.batch_size\n",
    "STEP_SIZE_VALID = validation_generator.n//validation_generator.batch_size\n",
    "\n",
    "# fit model\n",
    "history = model.fit(train_generator,\n",
    "                    steps_per_epoch=STEP_SIZE_TRAIN,\n",
    "                    validation_data=validation_generator,\n",
    "                    validation_steps=STEP_SIZE_VALID,\n",
    "                    epochs=25,\n",
    "                    callbacks=[early])\n",
    "\n",
    "# This code is modified by Susobhan Akhuli\n"
   ]
  },
  {
   "cell_type": "code",
   "execution_count": null,
   "metadata": {},
   "outputs": [],
   "source": [
    "model.save(\"Model.h5\")"
   ]
  },
  {
   "cell_type": "code",
   "execution_count": null,
   "metadata": {},
   "outputs": [],
   "source": [
    "# store results\n",
    "acc = history.history['accuracy']\n",
    "val_acc = history.history['val_accuracy']\n",
    "loss = history.history['loss']\n",
    "val_loss = history.history['val_loss']\n",
    "\n",
    "\n",
    "# plot results\n",
    "# accuracy\n",
    "plt.figure(figsize=(10, 16))\n",
    "plt.rcParams['figure.figsize'] = [16, 9]\n",
    "plt.rcParams['font.size'] = 14\n",
    "plt.rcParams['axes.grid'] = True\n",
    "plt.rcParams['figure.facecolor'] = 'white'\n",
    "plt.subplot(2, 1, 1)\n",
    "plt.plot(acc, label='Training Accuracy')\n",
    "plt.plot(val_acc, label='Validation Accuracy')\n",
    "plt.legend(loc='lower right')\n",
    "plt.ylabel('Accuracy')\n",
    "plt.title(f'\\nTraining and Validation Accuracy. \\nTrain Accuracy: \n",
    "          {str(acc[-1])}\\nValidation Accuracy: {str(val_acc[-1])}')\n"
   ]
  },
  {
   "cell_type": "code",
   "execution_count": null,
   "metadata": {},
   "outputs": [],
   "source": [
    "# loss\n",
    "plt.subplot(2, 1, 2)\n",
    "plt.plot(loss, label='Training Loss')\n",
    "plt.plot(val_loss, label='Validation Loss')\n",
    "plt.legend(loc='upper right')\n",
    "plt.ylabel('Cross Entropy')\n",
    "plt.title(f'Training and Validation Loss. \\nTrain Loss: \n",
    "          {str(loss[-1])}\\nValidation Loss: {str(val_loss[-1])}')\n",
    "plt.xlabel('epoch')\n",
    "plt.tight_layout(pad=3.0)\n",
    "plt.show()\n"
   ]
  },
  {
   "cell_type": "code",
   "execution_count": null,
   "metadata": {},
   "outputs": [],
   "source": [
    "accuracy_score = model.evaluate(validation_generator)\n",
    "print(accuracy_score)\n",
    "print(\"Accuracy: {:.4f}%\".format(accuracy_score[1] * 100)) \n",
    "\n",
    "print(\"Loss: \",accuracy_score[0])\n"
   ]
  },
  {
   "cell_type": "code",
   "execution_count": null,
   "metadata": {},
   "outputs": [],
   "source": [
    "test_img_path = test_path+\"/000621fb3cbb32d8935728e48679680e.jpg\"\n",
    "\n",
    "img = cv2.imread(test_img_path)\n",
    "resized_img = cv2.resize(img, (331, 331)).reshape(-1, 331, 331, 3)/255\n",
    "\n",
    "plt.figure(figsize=(6,6))\n",
    "plt.title(\"TEST IMAGE\")\n",
    "plt.imshow(resized_img[0])\n"
   ]
  },
  {
   "cell_type": "code",
   "execution_count": null,
   "metadata": {},
   "outputs": [],
   "source": [
    "predictions = []\n",
    "\n",
    "for image in sample.id:\n",
    "    img = tf.keras.preprocessing.image.load_img(test_path +'/'+ image)\n",
    "    img = tf.keras.preprocessing.image.img_to_array(img)\n",
    "    img = tf.keras.preprocessing.image.smart_resize(img, (331, 331))\n",
    "    img = tf.reshape(img, (-1, 331, 331, 3))\n",
    "    prediction = model.predict(img/255)\n",
    "    predictions.append(np.argmax(prediction))\n",
    "\n",
    "my_submission = pd.DataFrame({'image_id': sample.id, 'label':  predictions})\n",
    "my_submission.to_csv('submission.csv', index=False)\n",
    "\n",
    "# Submission file output\n",
    "print(\"Submission File: \\n---------------\\n\")\n",
    "print(my_submission.head()) # Displaying first five predicted output\n"
   ]
  }
 ],
 "metadata": {
  "language_info": {
   "name": "python"
  }
 },
 "nbformat": 4,
 "nbformat_minor": 2
}
